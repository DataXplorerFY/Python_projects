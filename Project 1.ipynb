{
 "cells": [
  {
   "cell_type": "code",
   "execution_count": null,
   "id": "0a63937b",
   "metadata": {},
   "outputs": [],
   "source": [
    "import random\n",
    "import string\n",
    "\n",
    "def generate_password(length, uppercase, lowercase, numbers, special_chars):\n",
    "    characters = \"\"\n",
    "\n",
    "    if uppercase:\n",
    "        characters += string.ascii_uppercase\n",
    "    if lowercase:\n",
    "        characters += string.ascii_lowercase\n",
    "    if numbers:\n",
    "        characters += string.digits\n",
    "    if special_chars:\n",
    "        characters += string.punctuation\n",
    "\n",
    "    password = ''.join(random.choice(characters) for _ in range(length))\n",
    "    return password\n",
    "\n",
    "length = int(input(\"Enter the desired length of the password: \"))\n",
    "uppercase = input(\"Include uppercase letters? (y/n): \").lower() == \"y\"\n",
    "lowercase = input(\"Include lowercase letters? (y/n): \").lower() == \"y\"\n",
    "numbers = input(\"Include numbers? (y/n): \").lower() == \"y\"\n",
    "special_chars = input(\"Include special characters? (y/n): \").lower() == \"y\"\n",
    "\n",
    "password = generate_password(length, uppercase, lowercase, numbers, special_chars)\n",
    "print(\"Generated Password:\", password)\n"
   ]
  }
 ],
 "metadata": {
  "kernelspec": {
   "display_name": "Python 3 (ipykernel)",
   "language": "python",
   "name": "python3"
  },
  "language_info": {
   "codemirror_mode": {
    "name": "ipython",
    "version": 3
   },
   "file_extension": ".py",
   "mimetype": "text/x-python",
   "name": "python",
   "nbconvert_exporter": "python",
   "pygments_lexer": "ipython3",
   "version": "3.9.7"
  }
 },
 "nbformat": 4,
 "nbformat_minor": 5
}
