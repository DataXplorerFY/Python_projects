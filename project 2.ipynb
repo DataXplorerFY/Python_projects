{
 "cells": [
  {
   "cell_type": "code",
   "execution_count": 1,
   "id": "e42eb937",
   "metadata": {},
   "outputs": [],
   "source": [
    "import os"
   ]
  },
  {
   "cell_type": "code",
   "execution_count": 2,
   "id": "02cad100",
   "metadata": {},
   "outputs": [],
   "source": [
    "import  shutil"
   ]
  },
  {
   "cell_type": "code",
   "execution_count": null,
   "id": "a8ff2dde",
   "metadata": {},
   "outputs": [],
   "source": [
    "\n",
    "\n",
    "def organize_files(directory):\n",
    "    files = os.listdir(directory)\n",
    "\n",
    "    for file in files:\n",
    "        if os.path.isfile(file):\n",
    "            file_extension = os.path.splitext(file)[1][1:]  # Get the file extension without the dot\n",
    "            if file_extension:\n",
    "                destination = os.path.join(directory, file_extension.upper() + \"s\")\n",
    "\n",
    "                if not os.path.exists(destination):\n",
    "                    os.mkdir(destination)\n",
    "\n",
    "                shutil.move(file, destination)\n",
    "\n",
    "directory = input(\"Enter the directory path: \")\n",
    "organize_files(directory)\n",
    "print(\"Files organized.\")\n"
   ]
  },
  {
   "cell_type": "code",
   "execution_count": null,
   "id": "41ef00ae",
   "metadata": {},
   "outputs": [],
   "source": []
  }
 ],
 "metadata": {
  "kernelspec": {
   "display_name": "Python 3 (ipykernel)",
   "language": "python",
   "name": "python3"
  },
  "language_info": {
   "codemirror_mode": {
    "name": "ipython",
    "version": 3
   },
   "file_extension": ".py",
   "mimetype": "text/x-python",
   "name": "python",
   "nbconvert_exporter": "python",
   "pygments_lexer": "ipython3",
   "version": "3.9.7"
  }
 },
 "nbformat": 4,
 "nbformat_minor": 5
}
