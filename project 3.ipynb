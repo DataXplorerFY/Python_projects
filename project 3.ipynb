{
 "cells": [
  {
   "cell_type": "markdown",
   "id": "9f379ea3",
   "metadata": {},
   "source": [
    "# Palindrome Checker:\n",
    "Create a program that checks whether a given string is a palindrome or not. A palindrome is a word, phrase, number, or other sequence of characters that reads the same forward and backward."
   ]
  },
  {
   "cell_type": "code",
   "execution_count": 1,
   "id": "5dcaa1d0",
   "metadata": {},
   "outputs": [
    {
     "name": "stdout",
     "output_type": "stream",
     "text": [
      "Enter a word: leo\n",
      "It's not a palindrome.\n"
     ]
    }
   ],
   "source": [
    "def is_palindrome(string):\n",
    "    reversed_string = string[::-1]\n",
    "    return string.lower() == reversed_string.lower()\n",
    "\n",
    "word = input(\"Enter a word: \")\n",
    "if is_palindrome(word):\n",
    "    print(\"It's a palindrome!\")\n",
    "else:\n",
    "    print(\"It's not a palindrome.\")\n"
   ]
  },
  {
   "cell_type": "code",
   "execution_count": null,
   "id": "a13e4334",
   "metadata": {},
   "outputs": [],
   "source": []
  }
 ],
 "metadata": {
  "kernelspec": {
   "display_name": "Python 3 (ipykernel)",
   "language": "python",
   "name": "python3"
  },
  "language_info": {
   "codemirror_mode": {
    "name": "ipython",
    "version": 3
   },
   "file_extension": ".py",
   "mimetype": "text/x-python",
   "name": "python",
   "nbconvert_exporter": "python",
   "pygments_lexer": "ipython3",
   "version": "3.9.7"
  }
 },
 "nbformat": 4,
 "nbformat_minor": 5
}
