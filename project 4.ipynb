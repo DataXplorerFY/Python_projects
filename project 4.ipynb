{
 "cells": [
  {
   "cell_type": "markdown",
   "id": "a7d46bf8",
   "metadata": {},
   "source": [
    "# Coin Flip Simulation:\n",
    "Write a program that simulates flipping a coin a specified number of times and keeps track of the number of heads and tails. Display the results at the end."
   ]
  },
  {
   "cell_type": "code",
   "execution_count": 1,
   "id": "d0df2f28",
   "metadata": {},
   "outputs": [
    {
     "name": "stdout",
     "output_type": "stream",
     "text": [
      "Enter the number of coin flips: 5\n",
      "Heads: 3\n",
      "Tails: 2\n"
     ]
    }
   ],
   "source": [
    "import random\n",
    "\n",
    "def coin_flip_simulation(num_flips):\n",
    "    heads = 0\n",
    "    tails = 0\n",
    "\n",
    "    for _ in range(num_flips):\n",
    "        if random.random() < 0.5:\n",
    "            heads += 1\n",
    "        else:\n",
    "            tails += 1\n",
    "\n",
    "    return heads, tails\n",
    "\n",
    "num_flips = int(input(\"Enter the number of coin flips: \"))\n",
    "heads_count, tails_count = coin_flip_simulation(num_flips)\n",
    "print(\"Heads:\", heads_count)\n",
    "print(\"Tails:\", tails_count)\n"
   ]
  },
  {
   "cell_type": "code",
   "execution_count": null,
   "id": "491d14f1",
   "metadata": {},
   "outputs": [],
   "source": []
  }
 ],
 "metadata": {
  "kernelspec": {
   "display_name": "Python 3 (ipykernel)",
   "language": "python",
   "name": "python3"
  },
  "language_info": {
   "codemirror_mode": {
    "name": "ipython",
    "version": 3
   },
   "file_extension": ".py",
   "mimetype": "text/x-python",
   "name": "python",
   "nbconvert_exporter": "python",
   "pygments_lexer": "ipython3",
   "version": "3.9.7"
  }
 },
 "nbformat": 4,
 "nbformat_minor": 5
}
