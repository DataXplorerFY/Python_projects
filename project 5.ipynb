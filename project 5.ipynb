{
 "cells": [
  {
   "cell_type": "markdown",
   "id": "28e9a9ea",
   "metadata": {},
   "source": [
    "# Create a program that allows a user to play the game of Hangman. The program should randomly select a word from a predefined list and prompt the user to guess letters until they either solve the word or run out of guesses."
   ]
  },
  {
   "cell_type": "code",
   "execution_count": null,
   "id": "e71e12b1",
   "metadata": {},
   "outputs": [
    {
     "name": "stdout",
     "output_type": "stream",
     "text": [
      "Guessed letters: []\n",
      "Attempts remaining: 6\n",
      "Word: ___\n"
     ]
    }
   ],
   "source": [
    "import random\n",
    "\n",
    "def play_hangman():\n",
    "    words = [\"apple\", \"banana\", \"cherry\", \"durian\", \"elderberry\", \"fig\", \"grape\"]\n",
    "\n",
    "    word = random.choice(words)\n",
    "    guessed_letters = []\n",
    "    max_attempts = 6\n",
    "    attempts = 0\n",
    "\n",
    "    while True:\n",
    "        print(\"Guessed letters:\", guessed_letters)\n",
    "        print(\"Attempts remaining:\", max_attempts - attempts)\n",
    "        masked_word = ''.join(letter if letter in guessed_letters else '_' for letter in word)\n",
    "        print(\"Word:\", masked_word)\n",
    "\n",
    "        if masked_word == word:\n",
    "            print(\"Congratulations! You guessed the word correctly.\")\n",
    "            break\n",
    "\n",
    "        if attempts >= max_attempts:\n",
    "            print(\"Game over! You ran out of attempts.\")\n",
    "            print(\"The word was:\", word)\n",
    "            break\n",
    "\n",
    "        guess = input(\"Enter a letter: \").lower()\n",
    "\n",
    "        if guess in guessed_letters:\n",
    "            print(\"You already guessed that letter. Try again.\")\n",
    "            continue\n",
    "\n",
    "        guessed_letters.append(guess)\n",
    "        if guess not in word:\n",
    "            attempts += 1\n",
    "            print(\"Incorrect guess.\")\n",
    "\n",
    "play_hangman()\n"
   ]
  },
  {
   "cell_type": "code",
   "execution_count": null,
   "id": "d6a58628",
   "metadata": {},
   "outputs": [],
   "source": []
  }
 ],
 "metadata": {
  "kernelspec": {
   "display_name": "Python 3 (ipykernel)",
   "language": "python",
   "name": "python3"
  },
  "language_info": {
   "codemirror_mode": {
    "name": "ipython",
    "version": 3
   },
   "file_extension": ".py",
   "mimetype": "text/x-python",
   "name": "python",
   "nbconvert_exporter": "python",
   "pygments_lexer": "ipython3",
   "version": "3.9.7"
  }
 },
 "nbformat": 4,
 "nbformat_minor": 5
}
