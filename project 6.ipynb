{
 "cells": [
  {
   "cell_type": "markdown",
   "id": "8c3dbc1a",
   "metadata": {},
   "source": [
    "# Rock-Paper-Scissors Game:"
   ]
  },
  {
   "cell_type": "code",
   "execution_count": null,
   "id": "14f0d5f8",
   "metadata": {},
   "outputs": [],
   "source": [
    "import random\n",
    "\n",
    "def determine_winner(player_choice, computer_choice):\n",
    "    if player_choice == computer_choice:\n",
    "        return \"It's a tie!\"\n",
    "    elif (player_choice == \"rock\" and computer_choice == \"scissors\") or (player_choice == \"paper\" and computer_choice == \"rock\") or (player_choice == \"scissors\" and computer_choice == \"paper\"):\n",
    "        return \"You win!\"\n",
    "    else:\n",
    "        return \"Computer wins!\"\n",
    "\n",
    "choices = [\"rock\", \"paper\", \"scissors\"]\n",
    "\n",
    "player_choice = input(\"Enter your choice (rock/paper/scissors): \")\n",
    "player_choice = player_choice.lower()\n",
    "\n",
    "if player_choice in choices:\n",
    "    computer_choice = random.choice(choices)\n",
    "    print(\"Computer's choice:\", computer_choice)\n",
    "    print(determine_winner(player_choice, computer_choice))\n",
    "else:\n",
    "    print(\"Invalid choice. Please try again.\")\n"
   ]
  },
  {
   "cell_type": "code",
   "execution_count": null,
   "id": "8cf69419",
   "metadata": {},
   "outputs": [],
   "source": []
  }
 ],
 "metadata": {
  "kernelspec": {
   "display_name": "Python 3 (ipykernel)",
   "language": "python",
   "name": "python3"
  },
  "language_info": {
   "codemirror_mode": {
    "name": "ipython",
    "version": 3
   },
   "file_extension": ".py",
   "mimetype": "text/x-python",
   "name": "python",
   "nbconvert_exporter": "python",
   "pygments_lexer": "ipython3",
   "version": "3.9.7"
  }
 },
 "nbformat": 4,
 "nbformat_minor": 5
}
