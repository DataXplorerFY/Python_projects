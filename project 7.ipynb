{
 "cells": [
  {
   "cell_type": "markdown",
   "id": "23a8d64e",
   "metadata": {},
   "source": [
    "# BMI Calculator:"
   ]
  },
  {
   "cell_type": "code",
   "execution_count": 2,
   "id": "f9340472",
   "metadata": {},
   "outputs": [
    {
     "name": "stdout",
     "output_type": "stream",
     "text": [
      "Enter your weight in kg: 55\n",
      "Enter your height in meters: 1.7272\n",
      "BMI: 18.436455558032222\n",
      "Category: Underweight\n"
     ]
    }
   ],
   "source": [
    "def calculate_bmi(weight, height):\n",
    "    bmi = weight / (height ** 2)\n",
    "    return bmi\n",
    "\n",
    "weight = float(input(\"Enter your weight in kg: \"))\n",
    "height = float(input(\"Enter your height in meters: \"))\n",
    "\n",
    "bmi = calculate_bmi(weight, height)\n",
    "print(\"BMI:\", bmi)\n",
    "\n",
    "if bmi < 18.5:\n",
    "    print(\"Category: Underweight\")\n",
    "elif bmi < 25:\n",
    "    print(\"Category: Normal weight\")\n",
    "elif bmi < 30:\n",
    "    print(\"Category: Overweight\")\n",
    "else:\n",
    "    print(\"Category: Obesity\")\n"
   ]
  },
  {
   "cell_type": "code",
   "execution_count": null,
   "id": "07fbf80c",
   "metadata": {},
   "outputs": [],
   "source": []
  }
 ],
 "metadata": {
  "kernelspec": {
   "display_name": "Python 3 (ipykernel)",
   "language": "python",
   "name": "python3"
  },
  "language_info": {
   "codemirror_mode": {
    "name": "ipython",
    "version": 3
   },
   "file_extension": ".py",
   "mimetype": "text/x-python",
   "name": "python",
   "nbconvert_exporter": "python",
   "pygments_lexer": "ipython3",
   "version": "3.9.7"
  }
 },
 "nbformat": 4,
 "nbformat_minor": 5
}
